{
 "cells": [
  {
   "cell_type": "markdown",
   "metadata": {},
   "source": [
    "# Assignment #2: Language models\n",
    "Author: Pierre Nugues"
   ]
  },
  {
   "cell_type": "markdown",
   "metadata": {},
   "source": [
    "## Objectives"
   ]
  },
  {
   "cell_type": "markdown",
   "metadata": {},
   "source": [
    "The objectives of this assignment are to:\n",
    "* Write a program to find n-gram statistics\n",
    "* Compute the probability of a sentence\n",
    "* Know what a language model is\n",
    "* Write a short report of 1 to 2 pages on the assignment"
   ]
  },
  {
   "cell_type": "markdown",
   "metadata": {},
   "source": [
    "## Submission"
   ]
  },
  {
   "cell_type": "markdown",
   "metadata": {},
   "source": [
    "Once you have written all the missing code and run all the cells, you will submit your notebook to an automatic marking system. Do not erase the content of the cells as we will possibly check your programs manually.\n",
    "The submission instructions are at the bottom of the notebook."
   ]
  },
  {
   "cell_type": "markdown",
   "metadata": {},
   "source": [
    "## Organization"
   ]
  },
  {
   "cell_type": "markdown",
   "metadata": {},
   "source": [
    "* Each group will have to write Python programs to count unigrams, bigrams, and trigrams in a corpus of approximately one million words and to determine the probability of a sentence.\n",
    "* You can test you regular expression using the regex101.com site\n",
    "* Each student will have to write a short report of one to two pages and comment briefly the results. In your report, you must produce the tabulated results of your analysis as described below."
   ]
  },
  {
   "cell_type": "markdown",
   "metadata": {},
   "source": [
    "## Programming"
   ]
  },
  {
   "cell_type": "markdown",
   "metadata": {},
   "source": [
    "### Imports"
   ]
  },
  {
   "cell_type": "markdown",
   "metadata": {},
   "source": [
    "Some imports you may need. Add others as needed."
   ]
  },
  {
   "cell_type": "code",
   "execution_count": 1,
   "metadata": {},
   "outputs": [],
   "source": [
    "import bz2\n",
    "import math\n",
    "import os\n",
    "import regex as re\n",
    "import requests\n",
    "import sys\n",
    "from zipfile import ZipFile"
   ]
  },
  {
   "cell_type": "markdown",
   "metadata": {},
   "source": [
    "### Collecting and analyzing a corpus"
   ]
  },
  {
   "cell_type": "markdown",
   "metadata": {},
   "source": [
    "Retrieve a corpus of novels by Selma Lagerl&ouml;f from this URL:\n",
    "<a href=\"https://github.com/pnugues/ilppp/blob/master/programs/corpus/Selma.txt\">\n",
    "    <tt>https://github.com/pnugues/ilppp/blob/master/programs/corpus/Selma.txt</tt>\n",
    "</a>. The text of these novels was extracted\n",
    "from <a href=\"https://litteraturbanken.se/forfattare/LagerlofS/titlar\">Lagerlöf arkivet</a> at\n",
    "<a href=\"https://litteraturbanken.se/\">Litteraturbanken</a>."
   ]
  },
  {
   "cell_type": "code",
   "execution_count": 2,
   "metadata": {},
   "outputs": [],
   "source": [
    "# You may have to adjust the path\n",
    "corpus = open('C:/Users/ada10/Desktop/EDAN20/ilppp-master/ilppp-master/programs/corpus/Selma.txt', encoding='utf8').read()"
   ]
  },
  {
   "cell_type": "markdown",
   "metadata": {},
   "source": [
    "Run the <a href=\"https://github.com/pnugues/ilppp/tree/master/programs/ch02/python\">concordance\n",
    "program </a> to print the lines containing a specific word, for instance <i>Nils</i>."
   ]
  },
  {
   "cell_type": "code",
   "execution_count": 3,
   "metadata": {},
   "outputs": [],
   "source": [
    "pattern = 'Nils Holgersson'\n",
    "width = 25"
   ]
  },
  {
   "cell_type": "code",
   "execution_count": 4,
   "metadata": {},
   "outputs": [
    {
     "name": "stdout",
     "output_type": "stream",
     "text": [
      "Selma Lagerlöf Nils Holgerssons underbara resa genom Sv\n",
      "! Se på Tummetott! Se på Nils Holgersson Tummetott!» Genast vände\n",
      "r,» sade han. »Jag heter Nils Holgersson och är son till en husma\n",
      "lden. »Inte är det värt, Nils Holgersson, att du är ängslig eller\n",
      " i dem. På den tiden, då Nils Holgersson drog omkring med vildgäs\n",
      "ulle allt visa honom vad Nils Holgersson från Västra Vemmenhög va\n",
      "om ägde rum det året, då Nils Holgersson for omkring med vildgäss\n",
      "m vad det kan kosta dem. Nils Holgersson hade inte haft förstånd \n",
      "de det inte mer sägas om Nils Holgersson, att han inte tyckte om \n",
      " Rosenbom?» För där stod Nils Holgersson mitt uppe på Rosenboms n\n",
      " Med ens fingo de syn på Nils Holgersson, och då sköt den store v\n",
      "vila. När vildgässen och Nils Holgersson äntligen hade letat sig \n",
      " slags arbetare. Men vad Nils Holgersson inte såg, det var, att s\n",
      "nde han fråga, och om då Nils Holgersson sade nej, började han ge\n",
      "de lille Mats, och om nu Nils Holgersson också hade tegat, så had\n",
      "åg så försmädlig ut, att Nils Holgersson kastade sig över honom f\n",
      " brodern. Och inte ville Nils Holgersson slåss med en tös, utan h\n",
      "örkar. På den tiden, när Nils Holgersson for omkring med vildgäss\n",
      " ryckte omkull honom. Om Nils Holgersson genast hade ropat på hjä\n",
      "u reda dig på egen hand, Nils Holgersson,» sade han då till sig s\n",
      "r satte Fumle-Drumle ner Nils Holgersson på bottnen av en sandgro\n",
      "mlingarna. – »Jo, jag är Nils Holgersson från Västra Vemmenhög, s\n",
      "rakten. På den tiden, då Nils Holgersson for omkring med vildgäss\n",
      "Jo, det står – Det står: Nils Holgersson fr. V. Vemmenhög.» »Det \n",
      "visan 1 Sveriges karta 2 Nils Holgerssons underbara resa genom Sv\n",
      "admalsvåden 233 ________ Nils Holgerssons underbara resa genom Sv\n",
      "R. Tolv år ungefär innan Nils Holgersson hade börjat resa omkring\n",
      "och leta efter föda, men Nils Holgersson hade på morgonen tappat \n",
      "ill i Närke det året, då Nils Holgersson for fram över landskapet\n",
      "hade flyttat tassen över Nils Holgerssons ansikte, så att den sta\n",
      "29 april. Denna dag fick Nils Holgersson se södra Dalarna. Vildgä\n",
      "rliga sjön. Det året, då Nils Holgersson for med vildgässen genom\n",
      "t skänka upptäckten till Nils Holgersson. Det var ju både det tro\n",
      " som sången varade, stod Nils Holgersson och lyssnade till den, m\n",
      "ova på en vassrugge. Vad Nils Holgersson angår, så var han för hu\n",
      "e svårt för en sådan som Nils Holgersson att finna en farkost. Ha\n",
      "r de hade kommit mittför Nils Holgersson, slogo de sig ner på ett\n",
      " 5 maj. På den tiden, då Nils Holgersson drog genom landet med vi\n",
      "an vara bra lycklig. Att Nils Holgersson, som för ett par timmar \n",
      " afton. Och således hade Nils Holgersson fått se studenterna, när\n",
      "nger under marschen. Men Nils Holgersson hade tyckt, att det inte\n",
      "och glädja så som dessa. Nils Holgersson hade mest sett på studen\n",
      "m, stannade han. »Jag är Nils Holgersson från Västra Vemmenhög,» \n",
      " Ett par år före det, då Nils Holgersson drog omkring med vildgäs\n",
      " detsamma fattade han om Nils Holgersson med sin stora fot, höjde\n",
      "t ingen mer än den lilla Nils Holgersson, som följde henne. Solen\n",
      " voro klädda med is, och Nils Holgersson ville följa henne dit in\n",
      "t Lappland är mitt!» Men Nils Holgersson hade blivit så ängslig, \n",
      " över klippväggarna, och Nils Holgersson kunde förstå, att det va\n",
      " SJUKDOMEN. Det året, då Nils Holgersson for omkring med vildgäss\n",
      "jligt att undgå den. Vad Nils Holgersson beträffar, så hade han h\n",
      "hade hon slagit klorna i Nils Holgerssons skuldra och hackade eft\n",
      "g, att just det året, då Nils Holgersson for omkring med vildgäss\n",
      " lönt att vara bedrövad, Nils Holgersson,» sade solen. »Världen ä\n",
      "åga om han inte kunde ge Nils Holgersson bättre villkor. ’Det öns\n",
      "du vill,’ sade han. ’Med Nils Holgersson blir det ändå så, som ja\n",
      "a haft av honom. Ja, säg Nils Holgersson, att föräldrarna redan h\n",
      "Västergötland. Den lille Nils Holgersson hade krupit upp på en la\n",
      " honom sämre.» Den lille Nils Holgersson hade följt med barnen he\n",
      "e bara störa.» Då tyckte Nils Holgersson, att när ingen annan gjo\n",
      "n färdig att följa det.» Nils Holgersson sprang raskt neråt vägen\n",
      "rott mellan de unga. Vad Nils Holgersson beträffar, så hade han i\n",
      "on gav sig tid att se på Nils Holgersson, innan hon stötte till. \n",
      " ändå alldeles olik. Den Nils Holgersson, som hade farit bort i v\n",
      " tro det. Välkommen hem, Nils Holgersson, välkommen hem! Det här \n",
      "mig här på gården,» sade Nils Holgersson. »Min egen mor tror, att\n",
      "on riktig sjukdom,» sade Nils Holgersson. »Jag får försöka ställa\n",
      "in kniv här på din hov?» Nils Holgersson var nätt och jämnt färdi\n",
      "sslingen, som var så lik Nils Holgersson, att om det inte var han\n",
      "pojken fanns i närheten. Nils Holgersson hörde honom nog, men han\n",
      "ottrar ihop ett tack för Nils Holgersson? Vad skulle det ha blivi\n"
     ]
    }
   ],
   "source": [
    "# spaces match tabs and newlines\n",
    "pattern = re.sub(' ', '\\\\s+', pattern)\n",
    "# Replaces newlines with spaces in the text\n",
    "clean_corpus = re.sub('\\s+', ' ', corpus)\n",
    "concordance = ('(.{{0,{width}}}{pattern}.{{0,{width}}})'\n",
    "               .format(pattern=pattern, width=width))\n",
    "for match in re.finditer(concordance, clean_corpus):\n",
    "    print(match.group(1))\n",
    "# print the string with 0..width characters on either side"
   ]
  },
  {
   "cell_type": "markdown",
   "metadata": {},
   "source": [
    "Run a simple <a href=\"https://github.com/pnugues/ilppp/tree/master/programs/ch05/python\">tokenization\n",
    "program</a> on your corpus."
   ]
  },
  {
   "cell_type": "code",
   "execution_count": 5,
   "metadata": {},
   "outputs": [],
   "source": [
    "def tokenize(text):\n",
    "    words = re.findall('\\p{L}+', text.lower())\n",
    "    return words"
   ]
  },
  {
   "cell_type": "code",
   "execution_count": 6,
   "metadata": {},
   "outputs": [
    {
     "data": {
      "text/plain": [
       "['selma',\n",
       " 'lagerlöf',\n",
       " 'nils',\n",
       " 'holgerssons',\n",
       " 'underbara',\n",
       " 'resa',\n",
       " 'genom',\n",
       " 'sverige',\n",
       " 'första',\n",
       " 'bandet']"
      ]
     },
     "execution_count": 6,
     "metadata": {},
     "output_type": "execute_result"
    }
   ],
   "source": [
    "words = tokenize(corpus)\n",
    "words[:10]"
   ]
  },
  {
   "cell_type": "markdown",
   "metadata": {},
   "source": [
    "Count the number of unique words in the original corpus and when setting all the words in lowercase"
   ]
  },
  {
   "cell_type": "markdown",
   "metadata": {},
   "source": [
    "Original text"
   ]
  },
  {
   "cell_type": "code",
   "execution_count": 7,
   "metadata": {},
   "outputs": [
    {
     "data": {
      "text/plain": [
       "44256"
      ]
     },
     "execution_count": 7,
     "metadata": {},
     "output_type": "execute_result"
    }
   ],
   "source": [
    "len(set(re.findall(r'\\p{L}+', corpus, re.UNICODE)))"
   ]
  },
  {
   "cell_type": "markdown",
   "metadata": {},
   "source": [
    "Lowercased text"
   ]
  },
  {
   "cell_type": "code",
   "execution_count": 8,
   "metadata": {},
   "outputs": [
    {
     "data": {
      "text/plain": [
       "41032"
      ]
     },
     "execution_count": 8,
     "metadata": {},
     "output_type": "execute_result"
    }
   ],
   "source": [
    "len(set(re.findall(r'\\p{L}+', corpus.lower(), re.UNICODE)))"
   ]
  },
  {
   "cell_type": "markdown",
   "metadata": {},
   "source": [
    "### Segmenting a corpus"
   ]
  },
  {
   "cell_type": "markdown",
   "metadata": {},
   "source": [
    "You will write a program to tokenize your text, insert `<s>` and `</s>` tags to delimit sentences, and set all the words in lowercase letters. In the end, you will only keep the words."
   ]
  },
  {
   "cell_type": "markdown",
   "metadata": {},
   "source": [
    "#### Normalizing "
   ]
  },
  {
   "cell_type": "markdown",
   "metadata": {},
   "source": [
    "Write a regular expression that matches all the characters that are neither a letter nor a punctuation sign. The punctuations signs will be the followings: `.;:?!`. In your regex, use the same order. For the definition of a letter, use a Unicode regex. You will call the regex string `nonletter`"
   ]
  },
  {
   "cell_type": "code",
   "execution_count": 9,
   "metadata": {},
   "outputs": [],
   "source": [
    "nonletter=r'[^\\p{L}.;:?!]'"
   ]
  },
  {
   "cell_type": "markdown",
   "metadata": {},
   "source": [
    "Write a `clean()` function that replaces all the characters that are neither a letter nor a punctuation sign with a space. The punctuations signs will be the followings: `.;:?!`.   For the sentence:\n",
    "\n",
    "_En gång hade de på Mårbacka en barnpiga, som hette Back-Kajsa._\n",
    "\n",
    "the result will be:\n",
    "\n",
    "`En gång hade de på Mårbacka en barnpiga som hette Back Kajsa.`"
   ]
  },
  {
   "cell_type": "code",
   "execution_count": 10,
   "metadata": {},
   "outputs": [],
   "source": [
    "def clean(text):\n",
    "    text=re.sub(nonletter,' ', text)\n",
    "    return text\n"
   ]
  },
  {
   "cell_type": "code",
   "execution_count": 11,
   "metadata": {},
   "outputs": [],
   "source": [
    "test_para = 'En gång hade de på Mårbacka en barnpiga, som hette Back-Kajsa. \\\n",
    "Hon var nog sina tre alnar lång, hon hade ett stort!, grovt ansikte med stränga, mörka drag, \\\n",
    "hennes händer voro hårda och fulla av sprickor; som barnens hår fastnade i, \\\n",
    "när hon kammade dem, och till humöret var hon dyster och sorgbunden.'"
   ]
  },
  {
   "cell_type": "code",
   "execution_count": 12,
   "metadata": {},
   "outputs": [
    {
     "name": "stdout",
     "output_type": "stream",
     "text": [
      "En gång hade de på Mårbacka en barnpiga  som hette Back Kajsa. Hon var nog sina tre alnar lång  hon hade ett stort!  grovt ansikte med stränga  mörka drag  hennes händer voro hårda och fulla av sprickor; som barnens hår fastnade i  när hon kammade dem  och till humöret var hon dyster och sorgbunden.\n"
     ]
    }
   ],
   "source": [
    "test_para = clean(test_para)\n",
    "print(test_para)"
   ]
  },
  {
   "cell_type": "markdown",
   "metadata": {},
   "source": [
    "#### Segmenter"
   ]
  },
  {
   "cell_type": "markdown",
   "metadata": {},
   "source": [
    "In this section, you will write a sentence segmenter that will delimit each sentence with `</s>` and `<s>` symbols. For example the sentence:\n",
    "\n",
    "_En gång hade de på Mårbacka en barnpiga, som hette Back-Kajsa._\n",
    "\n",
    "will be bracketed as:\n",
    "\n",
    "`<s> En gång hade de på Mårbacka en barnpiga som hette Back-Kajsa </s>`\n",
    "\n",
    "As algorithm, you will use a simple heuristics to detect the sentence boundaries: A sentence starts with a capital letter and ends with a period-equivalent punctuation sign. You will write a regex to match these boundaries with a regular expression and you will insert `</s>\\n<s>` symbols with a substitution function."
   ]
  },
  {
   "cell_type": "markdown",
   "metadata": {},
   "source": [
    "##### Detecting sentence boundaries"
   ]
  },
  {
   "cell_type": "markdown",
   "metadata": {},
   "source": [
    "Write a regular expression that matches a punctuation, a sequence of spaces, and an uppercase letter. Call this regex string `sentence_boundaries`. In the regex, you will remember the value of the uppercase letter using a backreference. Use the Unicode regexes for the letters and the spaces."
   ]
  },
  {
   "cell_type": "code",
   "execution_count": 13,
   "metadata": {},
   "outputs": [],
   "source": [
    "sentence_boundaries=r'[!,;:?.]\\p{Z}+(\\p{Lu})'\n"
   ]
  },
  {
   "cell_type": "markdown",
   "metadata": {},
   "source": [
    "##### Replacement markup"
   ]
  },
  {
   "cell_type": "markdown",
   "metadata": {},
   "source": [
    "Write a string to replace the matched boundaries with the sentence boundary markup. Remember that a sentence ends with `</s>` and starts with `<s>` and that there is one sentence per line. Hint: The markup is `</s>\\n<s>`. Remember also that the first letter of your sentence is in a regex backreference. Call the regex string `sentence_markup`."
   ]
  },
  {
   "cell_type": "code",
   "execution_count": 14,
   "metadata": {},
   "outputs": [],
   "source": [
    "sentence_markup=r' </s>\\n<s> \\1'"
   ]
  },
  {
   "cell_type": "markdown",
   "metadata": {},
   "source": [
    "##### Applying the substitution"
   ]
  },
  {
   "cell_type": "markdown",
   "metadata": {},
   "source": [
    "Use your regexes to segment your text. Use the string `sentence_boundaries`, `sentence_markup`, and `test_para` as input and `text` as output."
   ]
  },
  {
   "cell_type": "code",
   "execution_count": 15,
   "metadata": {},
   "outputs": [],
   "source": [
    "text=re.sub(sentence_boundaries, sentence_markup, test_para )\n"
   ]
  },
  {
   "cell_type": "code",
   "execution_count": 16,
   "metadata": {},
   "outputs": [
    {
     "name": "stdout",
     "output_type": "stream",
     "text": [
      "En gång hade de på Mårbacka en barnpiga  som hette Back Kajsa </s>\n",
      "<s> Hon var nog sina tre alnar lång  hon hade ett stort!  grovt ansikte med stränga  mörka drag  hennes händer voro hårda och fulla av sprickor; som barnens hår fastnade i  när hon kammade dem  och till humöret var hon dyster och sorgbunden.\n"
     ]
    }
   ],
   "source": [
    "print(text)"
   ]
  },
  {
   "cell_type": "markdown",
   "metadata": {},
   "source": [
    "Insert markup codes in the beginning and end of the text"
   ]
  },
  {
   "cell_type": "code",
   "execution_count": 17,
   "metadata": {},
   "outputs": [],
   "source": [
    "text=re.sub(r'(\\p{Lu})',r'<s> \\1', text, 1)\n",
    "text=re.sub(r'([.?!])',r'</s>', text)\n"
   ]
  },
  {
   "cell_type": "code",
   "execution_count": 18,
   "metadata": {},
   "outputs": [
    {
     "name": "stdout",
     "output_type": "stream",
     "text": [
      "<s> En gång hade de på Mårbacka en barnpiga  som hette Back Kajsa </s>\n",
      "<s> Hon var nog sina tre alnar lång  hon hade ett stort</s>  grovt ansikte med stränga  mörka drag  hennes händer voro hårda och fulla av sprickor; som barnens hår fastnade i  när hon kammade dem  och till humöret var hon dyster och sorgbunden</s>\n"
     ]
    }
   ],
   "source": [
    "print(text)"
   ]
  },
  {
   "cell_type": "markdown",
   "metadata": {},
   "source": [
    "Replace the space duplicates with one space and remove the punctuation signs. For the spaces, use the Unicode regex."
   ]
  },
  {
   "cell_type": "code",
   "execution_count": 19,
   "metadata": {},
   "outputs": [],
   "source": [
    "text=re.sub(r'[\\p{Z}]{2,}', ' ', text)"
   ]
  },
  {
   "cell_type": "code",
   "execution_count": 20,
   "metadata": {},
   "outputs": [
    {
     "name": "stdout",
     "output_type": "stream",
     "text": [
      "<s> En gång hade de på Mårbacka en barnpiga som hette Back Kajsa </s>\n",
      "<s> Hon var nog sina tre alnar lång hon hade ett stort</s> grovt ansikte med stränga mörka drag hennes händer voro hårda och fulla av sprickor; som barnens hår fastnade i när hon kammade dem och till humöret var hon dyster och sorgbunden</s>\n"
     ]
    }
   ],
   "source": [
    "print(text)"
   ]
  },
  {
   "cell_type": "markdown",
   "metadata": {},
   "source": [
    "Write a `segment_sentences(text)` function to gather the code in the Segmenter section and set the text in lowercase"
   ]
  },
  {
   "cell_type": "code",
   "execution_count": 21,
   "metadata": {},
   "outputs": [],
   "source": [
    "def segment_sentences(text):\n",
    "    text=clean(text)\n",
    "    text=re.sub(sentence_boundaries, sentence_markup, text)\n",
    "    text=re.sub(r'(\\p{Lu})',r'<s> \\1', text, 1)\n",
    "    text=re.sub(r'[.!?]',r' </s>', text)\n",
    "    text=re.sub(r'[\\p{Z}]{2,}', ' ', text)\n",
    "    text=text.lower()\n",
    "    return text\n",
    "    "
   ]
  },
  {
   "cell_type": "code",
   "execution_count": 22,
   "metadata": {},
   "outputs": [
    {
     "name": "stdout",
     "output_type": "stream",
     "text": [
      "<s> en gång hade de på mårbacka en barnpiga som hette back kajsa </s>\n",
      "<s> hon var nog sina tre alnar lång hon hade ett stort </s> grovt ansikte med stränga mörka drag hennes händer voro hårda och fulla av sprickor; som barnens hår fastnade i när hon kammade dem och till humöret var hon dyster och sorgbunden </s>\n"
     ]
    }
   ],
   "source": [
    "print(segment_sentences(test_para))"
   ]
  },
  {
   "cell_type": "markdown",
   "metadata": {},
   "source": [
    "Estimate roughly the accuracy of your program."
   ]
  },
  {
   "cell_type": "markdown",
   "metadata": {},
   "source": [
    "#### Tokenizing the corpus"
   ]
  },
  {
   "cell_type": "markdown",
   "metadata": {},
   "source": [
    "Clean and segment the corpus"
   ]
  },
  {
   "cell_type": "code",
   "execution_count": 23,
   "metadata": {},
   "outputs": [],
   "source": [
    "corpus=segment_sentences(corpus)"
   ]
  },
  {
   "cell_type": "markdown",
   "metadata": {},
   "source": [
    "The result should be a normalized text without punctuation signs where all the sentences are delimited with `<s>` and `</s>` tags. The five last lines of the text should look like this."
   ]
  },
  {
   "cell_type": "code",
   "execution_count": 24,
   "metadata": {},
   "outputs": [
    {
     "name": "stdout",
     "output_type": "stream",
     "text": [
      "s> hon hade fått större kärlek av sina föräldrar än någon annan han visste och sådan kärlek måste vändas i välsignelse </s>\n",
      "<s> då prästen sade detta kom alla människor att se bort mot klara gulla och de förundrade sig över vad de såg </s>\n",
      "<s> prästens ord tycktes redan ha gått i uppfyllelse </s>\n",
      "<s> där stod klara fina gulleborg ifrån skrolycka hon som var uppkallad efter själva solen vid sina föräldrars grav och lyste som en förklarad </s>\n",
      "<s> hon var likaså vacker som den söndagen då hon gick till kyrkan i den röda klänningen om inte vackrare </s> \n"
     ]
    }
   ],
   "source": [
    "print(corpus[-557:])"
   ]
  },
  {
   "cell_type": "markdown",
   "metadata": {},
   "source": [
    "You will now create a list of words from your string. You will consider that a space or a carriage return is an item separator"
   ]
  },
  {
   "cell_type": "code",
   "execution_count": 25,
   "metadata": {},
   "outputs": [],
   "source": [
    "corpus= re.sub(r'\\n+', '\\n', corpus)\n",
    "words = corpus.split()"
   ]
  },
  {
   "cell_type": "markdown",
   "metadata": {},
   "source": [
    "The five last lines of the corpus should like this:"
   ]
  },
  {
   "cell_type": "code",
   "execution_count": 26,
   "metadata": {},
   "outputs": [
    {
     "name": "stdout",
     "output_type": "stream",
     "text": [
      "['<s>', 'hon', 'hade', 'fått', 'större', 'kärlek', 'av', 'sina', 'föräldrar', 'än', 'någon', 'annan', 'han', 'visste', 'och', 'sådan', 'kärlek', 'måste', 'vändas', 'i', 'välsignelse', '</s>', '<s>', 'då', 'prästen', 'sade', 'detta', 'kom', 'alla', 'människor', 'att', 'se', 'bort', 'mot', 'klara', 'gulla', 'och', 'de', 'förundrade', 'sig', 'över', 'vad', 'de', 'såg', '</s>', '<s>', 'prästens', 'ord', 'tycktes', 'redan', 'ha', 'gått', 'i', 'uppfyllelse', '</s>', '<s>', 'där', 'stod', 'klara', 'fina', 'gulleborg', 'ifrån', 'skrolycka', 'hon', 'som', 'var', 'uppkallad', 'efter', 'själva', 'solen', 'vid', 'sina', 'föräldrars', 'grav', 'och', 'lyste', 'som', 'en', 'förklarad', '</s>', '<s>', 'hon', 'var', 'likaså', 'vacker', 'som', 'den', 'söndagen', 'då', 'hon', 'gick', 'till', 'kyrkan', 'i', 'den', 'röda', 'klänningen', 'om', 'inte', 'vackrare', '</s>']\n"
     ]
    }
   ],
   "source": [
    "print(words[-101:])"
   ]
  },
  {
   "cell_type": "markdown",
   "metadata": {},
   "source": [
    "### Counting unigrams and bigrams"
   ]
  },
  {
   "cell_type": "markdown",
   "metadata": {},
   "source": [
    "Read and try programs to compute the frequency of unigrams and bigrams of the training set: [<a\n",
    "            href=\"https://github.com/pnugues/ilppp/tree/master/programs/ch05/python\">Program folder</a>]."
   ]
  },
  {
   "cell_type": "markdown",
   "metadata": {},
   "source": [
    "#### Unigrams"
   ]
  },
  {
   "cell_type": "code",
   "execution_count": 27,
   "metadata": {},
   "outputs": [],
   "source": [
    "def unigrams(words):\n",
    "    frequency = {}\n",
    "    for i in range(len(words)):\n",
    "        if words[i] in frequency:\n",
    "            frequency[words[i]] += 1\n",
    "        else:\n",
    "            frequency[words[i]] = 1\n",
    "    return frequency"
   ]
  },
  {
   "cell_type": "markdown",
   "metadata": {},
   "source": [
    "We compute the frequencies."
   ]
  },
  {
   "cell_type": "code",
   "execution_count": 28,
   "metadata": {},
   "outputs": [
    {
     "data": {
      "text/plain": [
       "[('<s>', 59047),\n",
       " ('selma', 52),\n",
       " ('lagerlöf', 269),\n",
       " ('nils', 87),\n",
       " ('holgerssons', 6),\n",
       " ('underbara', 23),\n",
       " ('resa', 317),\n",
       " ('genom', 688),\n",
       " ('sverige', 56),\n",
       " ('</s>', 60928),\n",
       " ('första', 525),\n",
       " ('bandet', 6),\n",
       " ('bokutgåva', 11),\n",
       " ('albert', 15),\n",
       " ('bonniers', 11),\n",
       " ('förlag', 11),\n",
       " ('stockholm', 77),\n",
       " ('den', 11622),\n",
       " ('kristliga', 2),\n",
       " ('dagvisan', 2)]"
      ]
     },
     "execution_count": 28,
     "metadata": {},
     "output_type": "execute_result"
    }
   ],
   "source": [
    "frequency = unigrams(words)\n",
    "list(frequency.items())[:20]"
   ]
  },
  {
   "cell_type": "markdown",
   "metadata": {},
   "source": [
    "#### Bigrams"
   ]
  },
  {
   "cell_type": "code",
   "execution_count": 29,
   "metadata": {},
   "outputs": [],
   "source": [
    "def bigrams(words):\n",
    "    bigrams = []\n",
    "    for i in range(len(words) - 1):\n",
    "        bigrams.append((words[i], words[i + 1]))\n",
    "    frequency_bigrams = {}\n",
    "    for i in range(len(words) - 1):\n",
    "        if bigrams[i] in frequency_bigrams:\n",
    "            frequency_bigrams[bigrams[i]] += 1\n",
    "        else:\n",
    "            frequency_bigrams[bigrams[i]] = 1\n",
    "    return frequency_bigrams"
   ]
  },
  {
   "cell_type": "code",
   "execution_count": 30,
   "metadata": {},
   "outputs": [
    {
     "data": {
      "text/plain": [
       "[(('<s>', 'selma'), 8),\n",
       " (('selma', 'lagerlöf'), 11),\n",
       " (('lagerlöf', 'nils'), 1),\n",
       " (('nils', 'holgerssons'), 6),\n",
       " (('holgerssons', 'underbara'), 4),\n",
       " (('underbara', 'resa'), 4),\n",
       " (('resa', 'genom'), 6),\n",
       " (('genom', 'sverige'), 5),\n",
       " (('sverige', '</s>'), 19),\n",
       " (('</s>', '<s>'), 59046),\n",
       " (('<s>', 'första'), 11),\n",
       " (('första', 'bandet'), 1),\n",
       " (('bandet', 'bokutgåva'), 2),\n",
       " (('bokutgåva', 'albert'), 11),\n",
       " (('albert', 'bonniers'), 11),\n",
       " (('bonniers', 'förlag'), 11),\n",
       " (('förlag', 'stockholm'), 10),\n",
       " (('stockholm', '</s>'), 24),\n",
       " (('<s>', 'den'), 1375),\n",
       " (('den', 'kristliga'), 2)]"
      ]
     },
     "execution_count": 30,
     "metadata": {},
     "output_type": "execute_result"
    }
   ],
   "source": [
    "frequency_bigrams = bigrams(words)\n",
    "list(frequency_bigrams.items())[:20]"
   ]
  },
  {
   "cell_type": "markdown",
   "metadata": {},
   "source": [
    "In the report, tell what is the possible number of bigrams and their real number? Explain why such a difference. What would be the possible number of 4-grams.\n",
    "\n",
    "Propose a solution to cope with bigrams unseen in the corpus."
   ]
  },
  {
   "cell_type": "markdown",
   "metadata": {},
   "source": [
    "### Computing the likelihood of a sentence"
   ]
  },
  {
   "cell_type": "markdown",
   "metadata": {},
   "source": [
    "#### Unigrams"
   ]
  },
  {
   "cell_type": "markdown",
   "metadata": {},
   "source": [
    "Write a program to compute a sentence's probability using unigrams. You may find useful the dictionaries that we saw in the mutual information program: [<a href=\"https://github.com/pnugues/ilppp/tree/master/programs/ch05/python\">Program folder</a>]. Your function will return the perplexity."
   ]
  },
  {
   "cell_type": "markdown",
   "metadata": {},
   "source": [
    "Your function should print and tabulate the results as in the examples below with the sentence _Det var en gång en katt som hette Nils_."
   ]
  },
  {
   "cell_type": "markdown",
   "metadata": {},
   "source": [
    "```\n",
    "=====================================================\n",
    "wi \t C(wi) \t #words \t P(wi)\n",
    "=====================================================\n",
    "det \t 21108 \t 1041631 \t 0.0202643738521607\n",
    "var \t 12090 \t 1041631 \t 0.01160679741674355\n",
    "en \t 13514 \t 1041631 \t 0.01297388422579589\n",
    "gång \t 1332 \t 1041631 \t 0.001278763784871994\n",
    "en \t 13514 \t 1041631 \t 0.01297388422579589\n",
    "katt \t 16 \t 1041631 \t 1.5360525944408337e-05\n",
    "som \t 16288 \t 1041631 \t 0.015637015411407686\n",
    "hette \t 97 \t 1041631 \t 9.312318853797554e-05\n",
    "nils \t 87 \t 1041631 \t 8.352285982272032e-05\n",
    "</s> \t 59047 \t 1041631 \t 0.056687060964967444\n",
    "=====================================================\n",
    "Prob. unigrams:\t 5.361459667285409e-27\n",
    "Geometric mean prob.: 0.0023600885848765307\n",
    "Entropy rate:\t 8.726943273141258\n",
    "Perplexity:\t 423.71290908655254\n",
    "```"
   ]
  },
  {
   "cell_type": "code",
   "execution_count": 31,
   "metadata": {},
   "outputs": [],
   "source": [
    "def unigram_lm(frequency, wordlings):\n",
    "    unigram_probabilities = {}\n",
    "    total=len(words)\n",
    "    for word in frequency.keys():\n",
    "        unigram_probabilities[word] = frequency[word]/total\n",
    "    probability = 1\n",
    "    entropy = 0\n",
    "    print (\"Unigram model\")\n",
    "    print (\"=\"*54)\n",
    "    print (\"wi    \", \"C(wi)    \", \"#words    \", \"P(wi)\")\n",
    "    print (\"=\"*54)\n",
    "\n",
    "    for word in wordlings:\n",
    "        print(\n",
    "        word,'   ',\n",
    "        str(frequency[word]),'   ',\n",
    "        str(total), '   ',\n",
    "        str(unigram_probabilities[word])\n",
    "      )\n",
    "        probability *= unigram_probabilities[word]\n",
    "        entropy += math.log2(unigram_probabilities[word])\n",
    "\n",
    "    print (\"=\"*54)\n",
    "\n",
    "    print (\"Prob. unigrams:\", probability)\n",
    "    print (\"Geometric mean prob.:\", math.pow(probability, 1/len(wordlings)))\n",
    "    entropy = -1/len(wordlings)*entropy\n",
    "    print (\"Entropy rate:\", entropy)\n",
    "    print (\"Perplexity:\", math.pow(2,entropy))\n",
    "    print ()\n",
    "    Perplexity=math.pow(2,entropy)\n",
    "    return Perplexity"
   ]
  },
  {
   "cell_type": "code",
   "execution_count": 32,
   "metadata": {},
   "outputs": [
    {
     "name": "stdout",
     "output_type": "stream",
     "text": [
      "['det', 'var', 'en', 'gång', 'en', 'katt', 'som', 'hette', 'nils', '</s>'] ['hej', 'jag', 'heter', 'selma', 'lagerlöf', '</s>'] ['i', 'en', 'katt', 'bor', 'ett', 'hus', 'som', 'är', 'rött', '</s>'] ['i', 'en', 'skog', 'fanns', 'en', 'björn', '</s>'] ['denna', 'uppgift', 'tog', 'en', 'evighet', 'att', 'göra', '</s>'] ['jag', 'gillar', 'denna', 'kurs', '</s>']\n"
     ]
    }
   ],
   "source": [
    "sentence = 'det var en gång en katt som hette nils </s>'\n",
    "sentence1 ='hej jag heter selma lagerlöf </s>'\n",
    "sentence2 = 'i en katt bor ett hus som är rött </s>'\n",
    "sentence3 = 'i en skog fanns en björn </s>'\n",
    "sentence4 = 'denna uppgift tog en evighet att göra </s>'\n",
    "sentence5 = 'jag gillar denna kurs </s>'\n",
    "sent_words = sentence.split()\n",
    "sent_words1 = sentence1.split()\n",
    "sent_words2 = sentence2.split()\n",
    "sent_words3 = sentence3.split()\n",
    "sent_words4 = sentence4.split()\n",
    "sent_words5 = sentence5.split()\n",
    "\n",
    "print(sent_words, sent_words1, sent_words2, sent_words3, sent_words4, sent_words5)"
   ]
  },
  {
   "cell_type": "code",
   "execution_count": 33,
   "metadata": {},
   "outputs": [
    {
     "name": "stdout",
     "output_type": "stream",
     "text": [
      "Unigram model\n",
      "======================================================\n",
      "wi     C(wi)     #words     P(wi)\n",
      "======================================================\n",
      "det     21107     1043448     0.020228128282386855\n",
      "var     12089     1043448     0.011585627649868513\n",
      "en     13513     1043448     0.01295033389301623\n",
      "gång     1331     1043448     0.0012755786584477617\n",
      "en     13513     1043448     0.01295033389301623\n",
      "katt     16     1043448     1.5333778012895706e-05\n",
      "som     16288     1043448     0.015609786017127831\n",
      "hette     97     1043448     9.296102920318023e-05\n",
      "nils     87     1043448     8.33774179451204e-05\n",
      "</s>     60928     1043448     0.058391026673106854\n",
      "======================================================\n",
      "Prob. unigrams: 5.431077993705472e-27\n",
      "Geometric mean prob.: 0.002363135388825589\n",
      "Entropy rate: 8.725081998053719\n",
      "Perplexity: 423.1666136136921\n",
      "\n",
      "Unigram model\n",
      "======================================================\n",
      "wi     C(wi)     #words     P(wi)\n",
      "======================================================\n",
      "hej     3     1043448     2.875083377417945e-06\n",
      "jag     9510     1043448     0.009114014306414887\n",
      "heter     78     1043448     7.475216781286657e-05\n",
      "selma     52     1043448     4.983477854191105e-05\n",
      "lagerlöf     269     1043448     0.0002577991428418091\n",
      "</s>     60928     1043448     0.058391026673106854\n",
      "======================================================\n",
      "Prob. unigrams: 1.4694135980771169e-21\n",
      "Geometric mean prob.: 0.00033717653430844857\n",
      "Entropy rate: 11.534208243669301\n",
      "Perplexity: 2965.80544091245\n",
      "\n",
      "Unigram model\n",
      "======================================================\n",
      "wi     C(wi)     #words     P(wi)\n",
      "======================================================\n",
      "i     16508     1043448     0.015820625464805147\n",
      "en     13513     1043448     0.01295033389301623\n",
      "katt     16     1043448     1.5333778012895706e-05\n",
      "bor     68     1043448     6.516855655480675e-05\n",
      "ett     5060     1043448     0.004849307296578268\n",
      "hus     255     1043448     0.0002443820870805253\n",
      "som     16288     1043448     0.015609786017127831\n",
      "är     6289     1043448     0.006027133120193819\n",
      "rött     40     1043448     3.8334445032239266e-05\n",
      "</s>     60928     1043448     0.058391026673106854\n",
      "======================================================\n",
      "Prob. unigrams: 5.109565713991726e-29\n",
      "Geometric mean prob.: 0.001481966542357674\n",
      "Entropy rate: 9.398271407679294\n",
      "Perplexity: 674.7790664754756\n",
      "\n",
      "Unigram model\n",
      "======================================================\n",
      "wi     C(wi)     #words     P(wi)\n",
      "======================================================\n",
      "i     16508     1043448     0.015820625464805147\n",
      "en     13513     1043448     0.01295033389301623\n",
      "skog     90     1043448     8.625250132253836e-05\n",
      "fanns     702     1043448     0.0006727695103157992\n",
      "en     13513     1043448     0.01295033389301623\n",
      "björn     102     1043448     9.775283483221014e-05\n",
      "</s>     60928     1043448     0.058391026673106854\n",
      "======================================================\n",
      "Prob. unigrams: 8.788182206714552e-19\n",
      "Geometric mean prob.: 0.0026336436253331075\n",
      "Entropy rate: 8.56872414588193\n",
      "Perplexity: 379.7020942320994\n",
      "\n",
      "Unigram model\n",
      "======================================================\n",
      "wi     C(wi)     #words     P(wi)\n",
      "======================================================\n",
      "denna     886     1043448     0.0008491079574640997\n",
      "uppgift     8     1043448     7.666889006447853e-06\n",
      "tog     638     1043448     0.0006114343982642163\n",
      "en     13513     1043448     0.01295033389301623\n",
      "evighet     2     1043448     1.9167222516119632e-06\n",
      "att     28020     1043448     0.026853278745083607\n",
      "göra     1158     1043448     0.001109782183683327\n",
      "</s>     60928     1043448     0.058391026673106854\n",
      "======================================================\n",
      "Prob. unigrams: 1.7193064204106482e-25\n",
      "Geometric mean prob.: 0.0008024521788833151\n",
      "Entropy rate: 10.28329696032831\n",
      "Perplexity: 1246.1801791000073\n",
      "\n",
      "Unigram model\n",
      "======================================================\n",
      "wi     C(wi)     #words     P(wi)\n",
      "======================================================\n",
      "jag     9510     1043448     0.009114014306414887\n",
      "gillar     1     1043448     9.583611258059816e-07\n",
      "denna     886     1043448     0.0008491079574640997\n",
      "kurs     3     1043448     2.875083377417945e-06\n",
      "</s>     60928     1043448     0.058391026673106854\n",
      "======================================================\n",
      "Prob. unigrams: 1.2450831652006893e-18\n",
      "Geometric mean prob.: 0.0002624458273133619\n",
      "Entropy rate: 11.895692719559058\n",
      "Perplexity: 3810.3101513821885\n",
      "\n"
     ]
    }
   ],
   "source": [
    "perplexity_unigrams = unigram_lm(frequency, sent_words)\n",
    "perplexity_unigrams1 = unigram_lm(frequency, sent_words1)\n",
    "perplexity_unigrams2 = unigram_lm(frequency, sent_words2)\n",
    "perplexity_unigrams3 = unigram_lm(frequency, sent_words3)\n",
    "perplexity_unigrams4 = unigram_lm(frequency, sent_words4)\n",
    "perplexity_unigrams5 = unigram_lm(frequency, sent_words5)"
   ]
  },
  {
   "cell_type": "code",
   "execution_count": 34,
   "metadata": {},
   "outputs": [
    {
     "data": {
      "text/plain": [
       "423"
      ]
     },
     "execution_count": 34,
     "metadata": {},
     "output_type": "execute_result"
    }
   ],
   "source": [
    "perplexity_unigrams = int(perplexity_unigrams)\n",
    "perplexity_unigrams\n",
    "\n"
   ]
  },
  {
   "cell_type": "markdown",
   "metadata": {},
   "source": [
    "#### Bigrams"
   ]
  },
  {
   "cell_type": "markdown",
   "metadata": {},
   "source": [
    "Write a program to compute the sentence probability using bigrams. Your function will tabulate and print the results as below. It will return the perplexity."
   ]
  },
  {
   "cell_type": "markdown",
   "metadata": {},
   "source": [
    "```\n",
    "=====================================================\n",
    "wi \t wi+1 \t Ci,i+1 \t C(i) \t P(wi+1|wi)\n",
    "=====================================================\n",
    "<s>\t det \t 5672 \t 59047 \t 0.09605907158704083\n",
    "det \t var \t 3839 \t 21108 \t 0.1818741709304529\n",
    "var \t en \t 712 \t 12090 \t 0.058891645988420185\n",
    "en \t gång \t 706 \t 13514 \t 0.052242119283705785\n",
    "gång \t en \t 20 \t 1332 \t 0.015015015015015015\n",
    "en \t katt \t 6 \t 13514 \t 0.0004439840165754033\n",
    "katt \t som \t 2 \t 16 \t 0.125\n",
    "som \t hette \t 45 \t 16288 \t 0.002762770137524558\n",
    "hette \t nils \t 0 \t 97 \t 0.0 \t *backoff: \t 8.352285982272032e-05\n",
    "nils \t </s> \t 2 \t 87 \t 0.022988505747126436\n",
    "=====================================================\n",
    "Prob. bigrams:\t 2.376007803503683e-19\n",
    "Geometric mean prob.: 0.013727289294133601\n",
    "Entropy rate:\t 6.186809422848149\n",
    "Perplexity:\t 72.84759420254609\n",
    "```"
   ]
  },
  {
   "cell_type": "code",
   "execution_count": 35,
   "metadata": {},
   "outputs": [],
   "source": [
    "def bigram_lm(frequency, frequency_bigrams, wordlings):\n",
    "    total=len(words)\n",
    "    bigram_probabilities={}\n",
    "    unigram_probabilities={}\n",
    "    wordlings.insert(0, '<s>')\n",
    "    \n",
    "    for word in frequency.keys():\n",
    "        unigram_probabilities[word] = frequency[word]/total\n",
    "    \n",
    "    for bigram in frequency_bigrams.keys():\n",
    "        bigram_probabilities[bigram] = frequency_bigrams[bigram]/frequency[bigram[0]]\n",
    "        \n",
    "    bigrams = [tuple(wordlings[inx:inx+2]) for inx in range(len(wordlings)-1)]\n",
    "\n",
    "    probability = 1\n",
    "    entropy = 0\n",
    "\n",
    "    print (\"Bigram model\")\n",
    "    print (\"=\"*54)\n",
    "    print (\"wi wi+1\", \"Ci,i+1\", \"C(i)\", \"P(wi+1|wi)\", \"backoff\")\n",
    "    print (\"=\"*54)\n",
    "\n",
    "    for bigram in bigrams:\n",
    "        bigram_str = str(bigram[0]) + \" \" + str(bigram[1])  \n",
    "        prob = 0\n",
    "        freq = 0\n",
    "        backoff = \"\"\n",
    "        if bigram in bigram_probabilities:\n",
    "            freq = frequency_bigrams[bigram] \n",
    "            prob = bigram_probabilities[bigram]\n",
    "        else:\n",
    "            backoff = \"backoff:\" + bigram[1]\n",
    "            prob = unigram_probabilities[bigram[1]]\n",
    "\n",
    "        print(\n",
    "            bigram_str,\n",
    "            str(freq),\n",
    "            str(frequency[bigram[0]]),\n",
    "            str(prob),\n",
    "            backoff\n",
    "        )\n",
    "\n",
    "        probability *= prob\n",
    "        entropy += math.log2(prob)\n",
    "\n",
    "    print(\"=\"*54)\n",
    "\n",
    "    print(\"Prob. bigrams:\", str(probability))\n",
    "    print(\"Geometric mean prob.:\", str(math.pow(probability, 1/len(wordlings))))\n",
    "    entropy = -1/len(bigrams)*entropy\n",
    "    print(\"Entropy rate:\", str(entropy))\n",
    "    print(\"Perplexity:\", math.pow(2, entropy))\n",
    "    Perplexity = math.pow(2, entropy)\n",
    "    return Perplexity"
   ]
  },
  {
   "cell_type": "code",
   "execution_count": 36,
   "metadata": {},
   "outputs": [
    {
     "name": "stdout",
     "output_type": "stream",
     "text": [
      "Bigram model\n",
      "======================================================\n",
      "wi wi+1 Ci,i+1 C(i) P(wi+1|wi) backoff\n",
      "======================================================\n",
      "<s> det 5672 59047 0.09605907158704083 \n",
      "det var 3838 21107 0.18183541005353673 \n",
      "var en 712 12089 0.05889651749524361 \n",
      "en gång 705 13513 0.05217198253533634 \n",
      "gång en 20 1331 0.015026296018031555 \n",
      "en katt 6 13513 0.0004440168726411604 \n",
      "katt som 2 16 0.125 \n",
      "som hette 45 16288 0.002762770137524558 \n",
      "hette nils 0 97 8.33774179451204e-05 backoff:nils\n",
      "nils </s> 2 87 0.022988505747126436 \n",
      "======================================================\n",
      "Prob. bigrams: 2.370331925761903e-19\n",
      "Geometric mean prob.: 0.0202675304079874\n",
      "Entropy rate: 6.187154470402314\n",
      "Perplexity: 72.86501915348336\n",
      "Bigram model\n",
      "======================================================\n",
      "wi wi+1 Ci,i+1 C(i) P(wi+1|wi) backoff\n",
      "======================================================\n",
      "<s> hej 1 59047 1.6935661422256845e-05 \n",
      "hej jag 0 3 0.009114014306414887 backoff:jag\n",
      "jag heter 4 9510 0.0004206098843322818 \n",
      "heter selma 0 78 4.983477854191105e-05 backoff:selma\n",
      "selma lagerlöf 11 52 0.21153846153846154 \n",
      "lagerlöf </s> 32 269 0.11895910780669144 \n",
      "======================================================\n",
      "Prob. bigrams: 8.141621634395843e-17\n",
      "Geometric mean prob.: 0.005029561590907225\n",
      "Entropy rate: 8.907910239403314\n",
      "Perplexity: 480.3393662580067\n",
      "Bigram model\n",
      "======================================================\n",
      "wi wi+1 Ci,i+1 C(i) P(wi+1|wi) backoff\n",
      "======================================================\n",
      "<s> i 682 59047 0.01155012108997917 \n",
      "i en 575 16508 0.03483159680155076 \n",
      "en katt 6 13513 0.0004440168726411604 \n",
      "katt bor 0 16 6.516855655480675e-05 backoff:bor\n",
      "bor ett 2 68 0.029411764705882353 \n",
      "ett hus 21 5060 0.004150197628458498 \n",
      "hus som 26 255 0.10196078431372549 \n",
      "som är 294 16288 0.018050098231827114 \n",
      "är rött 1 6289 0.0001590077913817777 \n",
      "rött </s> 4 40 0.1 \n",
      "======================================================\n",
      "Prob. bigrams: 4.1583256831432973e-23\n",
      "Geometric mean prob.: 0.009233284710229562\n",
      "Entropy rate: 7.434834342684528\n",
      "Perplexity: 173.02471794077644\n",
      "Bigram model\n",
      "======================================================\n",
      "wi wi+1 Ci,i+1 C(i) P(wi+1|wi) backoff\n",
      "======================================================\n",
      "<s> i 682 59047 0.01155012108997917 \n",
      "i en 575 16508 0.03483159680155076 \n",
      "en skog 8 13513 0.0005920224968548805 \n",
      "skog fanns 0 90 0.0006727695103157992 backoff:fanns\n",
      "fanns en 74 702 0.10541310541310542 \n",
      "en björn 10 13513 0.0007400281210686006 \n",
      "björn </s> 12 102 0.11764705882352941 \n",
      "======================================================\n",
      "Prob. bigrams: 1.4705789269091873e-15\n",
      "Geometric mean prob.: 0.013993812232298833\n",
      "Entropy rate: 7.038933886663469\n",
      "Perplexity: 131.50135788532387\n",
      "Bigram model\n",
      "======================================================\n",
      "wi wi+1 Ci,i+1 C(i) P(wi+1|wi) backoff\n",
      "======================================================\n",
      "<s> denna 80 59047 0.0013548529137805477 \n",
      "denna uppgift 0 886 7.666889006447853e-06 backoff:uppgift\n",
      "uppgift tog 0 8 0.0006114343982642163 backoff:tog\n",
      "tog en 16 638 0.025078369905956112 \n",
      "en evighet 0 13513 1.9167222516119632e-06 backoff:evighet\n",
      "evighet att 0 2 0.026853278745083607 backoff:att\n",
      "att göra 369 28020 0.013169164882226981 \n",
      "göra </s> 92 1158 0.07944732297063903 \n",
      "======================================================\n",
      "Prob. bigrams: 8.577377123342743e-24\n",
      "Geometric mean prob.: 0.0027355168198726853\n",
      "Entropy rate: 9.578217215491996\n",
      "Perplexity: 764.417616063088\n",
      "Bigram model\n",
      "======================================================\n",
      "wi wi+1 Ci,i+1 C(i) P(wi+1|wi) backoff\n",
      "======================================================\n",
      "<s> jag 2669 59047 0.04520128033600352 \n",
      "jag gillar 0 9510 9.583611258059816e-07 backoff:gillar\n",
      "gillar denna 0 1 0.0008491079574640997 backoff:denna\n",
      "denna kurs 0 886 2.875083377417945e-06 backoff:kurs\n",
      "kurs </s> 0 3 0.058391026673106854 backoff:</s>\n",
      "======================================================\n",
      "Prob. bigrams: 6.175034545673556e-18\n",
      "Geometric mean prob.: 0.0013544819811344246\n",
      "Entropy rate: 11.43365170004508\n",
      "Perplexity: 2766.127037458285\n"
     ]
    }
   ],
   "source": [
    "perplexity_bigrams = bigram_lm(frequency, frequency_bigrams, sent_words)\n",
    "perplexity_bigrams1 = bigram_lm(frequency, frequency_bigrams, sent_words1)\n",
    "perplexity_bigrams2 = bigram_lm(frequency, frequency_bigrams, sent_words2)\n",
    "perplexity_bigrams3 = bigram_lm(frequency, frequency_bigrams, sent_words3)\n",
    "perplexity_bigrams4 = bigram_lm(frequency, frequency_bigrams, sent_words4)\n",
    "perplexity_bigrams5 = bigram_lm(frequency, frequency_bigrams, sent_words5)"
   ]
  },
  {
   "cell_type": "code",
   "execution_count": 37,
   "metadata": {},
   "outputs": [
    {
     "data": {
      "text/plain": [
       "72"
      ]
     },
     "execution_count": 37,
     "metadata": {},
     "output_type": "execute_result"
    }
   ],
   "source": [
    "perplexity_bigrams = int(perplexity_bigrams)\n",
    "perplexity_bigrams"
   ]
  },
  {
   "cell_type": "markdown",
   "metadata": {},
   "source": [
    "In addition to this sentence, _Det var en gång en katt som hette Nils_, write five other sentences that will form your test set and run your programs on them. You will insert them in your report."
   ]
  },
  {
   "cell_type": "markdown",
   "metadata": {},
   "source": [
    "### Online prediction of words"
   ]
  },
  {
   "cell_type": "markdown",
   "metadata": {},
   "source": [
    "You will now carry out an online prediction of words. You will consider two cases:\n",
    "1. Prediction of the current word a user is typing;\n",
    "2. Prediction of the next word.\n",
    "\n",
    "Ideally, you would write a loop that reads the words and apply the models while typing. As the Jupyter labs are not designed for interactive input and output, we will simplify the experimental settings with constant strings at a given time of the input.  \n",
    "\n",
    "We will assume the user is typing the phrase: _Det var en gång_. "
   ]
  },
  {
   "cell_type": "markdown",
   "metadata": {},
   "source": [
    "#### Trigrams"
   ]
  },
  {
   "cell_type": "markdown",
   "metadata": {},
   "source": [
    "To have a more accurate prediction, you will use a trigram counting function. Program this function following the model of your bigram counting function."
   ]
  },
  {
   "cell_type": "code",
   "execution_count": 38,
   "metadata": {},
   "outputs": [],
   "source": [
    "def trigrams(words):\n",
    "    trigrams = []\n",
    "    for i in range(len(words) - 2):\n",
    "        trigrams.append((words[i], words[i + 1], words[i+2]))\n",
    "    frequency_trigrams = {}\n",
    "    for i in range(len(words) - 2):\n",
    "        if trigrams[i] in frequency_trigrams:\n",
    "            frequency_trigrams[trigrams[i]] += 1\n",
    "        else:\n",
    "            frequency_trigrams[trigrams[i]] = 1\n",
    "    return frequency_trigrams"
   ]
  },
  {
   "cell_type": "code",
   "execution_count": 39,
   "metadata": {},
   "outputs": [
    {
     "data": {
      "text/plain": [
       "329"
      ]
     },
     "execution_count": 39,
     "metadata": {},
     "output_type": "execute_result"
    }
   ],
   "source": [
    "frequency_trigrams = trigrams(words)\n",
    "frequency_trigrams[('det', 'var', 'en')]"
   ]
  },
  {
   "cell_type": "markdown",
   "metadata": {},
   "source": [
    "#### Prediction"
   ]
  },
  {
   "cell_type": "markdown",
   "metadata": {},
   "source": [
    "The user starts typing _Det var en gång_. After the 2nd character, your program tries to help the user with suggested words."
   ]
  },
  {
   "cell_type": "code",
   "execution_count": 40,
   "metadata": {},
   "outputs": [
    {
     "data": {
      "text/plain": [
       "'de'"
      ]
     },
     "execution_count": 40,
     "metadata": {},
     "output_type": "execute_result"
    }
   ],
   "source": [
    "starting_text = 'De'.lower()\n",
    "starting_text"
   ]
  },
  {
   "cell_type": "markdown",
   "metadata": {},
   "source": [
    "Write a program to rank the five first candidates at this point. Assign these predictions in a list that you will call `current_word_predictions_1`. Note that you are starting a sentence and you can then use the bigram frequencies. Write a sorting key that will enable you have a deterministic ranking of the words or bigrams with identical frequencies: When two words have the same frequency, you will sort them by alphabetic order. You can do this with a tuple."
   ]
  },
  {
   "cell_type": "code",
   "execution_count": 41,
   "metadata": {},
   "outputs": [],
   "source": [
    "cand_nbr = 5"
   ]
  },
  {
   "cell_type": "code",
   "execution_count": 42,
   "metadata": {},
   "outputs": [],
   "source": [
    "candidates=[]\n",
    "topcandidates=[]\n",
    "test=set()\n",
    "current_word_predictions_1=[]\n",
    "\n",
    "for key in frequency.keys():\n",
    "    if key.startswith(\"de\"):\n",
    "        topcandidates.append((key,frequency[key])) \n",
    "        test.add(key)\n",
    "\n",
    "total_words=len(frequency)\n",
    "\n",
    "def get_prob_unigram(word):\n",
    "    if word not in frequency:\n",
    "        return 0\n",
    "    return frequency[word]/total_words\n",
    "\n",
    "def get_prob_bigram(word):\n",
    "    if word not in frequency_bigrams:\n",
    "        return 0\n",
    "    return frequency_bigrams[word]/frequency[word[0]]\n",
    "\n",
    "def get_prob_trigram(words):\n",
    "    if words not in frequency_trigrams:\n",
    "        return 0\n",
    "    return frequency_trigrams[words] / frequency_bigrams[words[:2]]\n",
    "\n",
    "for word in test:\n",
    "    p1=get_prob_unigram((word))\n",
    "    p2=get_prob_bigram((words[-1], word))\n",
    "    p=p1+p2\n",
    "    candidates.append((word, p))\n",
    "\n",
    "candidates.sort(key=lambda x: x[1], reverse=True)\n",
    "for ans in candidates[:5]:\n",
    "    current_word_predictions_1.append(ans[0])\n",
    "\n",
    "        \n",
    "\n"
   ]
  },
  {
   "cell_type": "code",
   "execution_count": 43,
   "metadata": {},
   "outputs": [
    {
     "data": {
      "text/plain": [
       "['det', 'de', 'den', 'dem', 'detta']"
      ]
     },
     "execution_count": 43,
     "metadata": {},
     "output_type": "execute_result"
    }
   ],
   "source": [
    "current_word_predictions_1"
   ]
  },
  {
   "cell_type": "markdown",
   "metadata": {},
   "source": [
    "Let us now suppose that the user has typed: _Det var en_. After detecting a space, your program starts predicting a next possible word."
   ]
  },
  {
   "cell_type": "code",
   "execution_count": 44,
   "metadata": {},
   "outputs": [
    {
     "data": {
      "text/plain": [
       "'det var en '"
      ]
     },
     "execution_count": 44,
     "metadata": {},
     "output_type": "execute_result"
    }
   ],
   "source": [
    "current_text = \"Det var en \".lower()\n",
    "current_text"
   ]
  },
  {
   "cell_type": "markdown",
   "metadata": {},
   "source": [
    "Tokenize this text and return a list of tokens. Call it `tokens`."
   ]
  },
  {
   "cell_type": "code",
   "execution_count": 45,
   "metadata": {},
   "outputs": [],
   "source": [
    "tokens=current_text.split()"
   ]
  },
  {
   "cell_type": "code",
   "execution_count": 46,
   "metadata": {},
   "outputs": [
    {
     "data": {
      "text/plain": [
       "['det', 'var', 'en']"
      ]
     },
     "execution_count": 46,
     "metadata": {},
     "output_type": "execute_result"
    }
   ],
   "source": [
    "tokens"
   ]
  },
  {
   "cell_type": "markdown",
   "metadata": {},
   "source": [
    "Write a program to propose the five next possible words ranked by frequency using a trigram model. Assign these predictions to a variable that you will call `next_word_predictions`. Write a sorting key that will enable you have a deterministic ranking of the words or bigrams with identical frequencies: When two words have the same frequency, you will sort them by alphabetic order. You can do this with a tuple."
   ]
  },
  {
   "cell_type": "code",
   "execution_count": 47,
   "metadata": {},
   "outputs": [],
   "source": [
    "vocab=set()\n",
    "candidates=[]\n",
    "next_word_predictions=[]\n",
    "for key in frequency.keys():\n",
    "    if key not in vocab:\n",
    "        vocab.add(key)\n",
    "\n",
    "for word in vocab:\n",
    "    p1 = get_prob_unigram((word))\n",
    "    p2 = get_prob_bigram((tokens[-1], word))\n",
    "    p3 = get_prob_trigram((tokens[-2], tokens[-1], word)) if len(tokens) >= 3 else 0\n",
    "    p=p1*0.01+p2*0.4+p3*0.5\n",
    "    candidates.append((word, p))\n",
    "\n",
    "candidates.sort(key=lambda x: x[1], reverse=True)\n",
    "for ans in candidates[:5]:\n",
    "    next_word_predictions.append(ans[0])"
   ]
  },
  {
   "cell_type": "code",
   "execution_count": 48,
   "metadata": {},
   "outputs": [
    {
     "data": {
      "text/plain": [
       "['stor', 'liten', 'gång', 'sådan', 'av']"
      ]
     },
     "execution_count": 48,
     "metadata": {},
     "output_type": "execute_result"
    }
   ],
   "source": [
    "next_word_predictions"
   ]
  },
  {
   "cell_type": "markdown",
   "metadata": {},
   "source": [
    "Finally, let us suppose that the user has typed _Det var en g_, rank the five possible candidates. Assign these predictions in a list that you will call `current_word_predictions_2`"
   ]
  },
  {
   "cell_type": "code",
   "execution_count": 49,
   "metadata": {},
   "outputs": [],
   "source": [
    "current_text = \"Det var en g\".lower()"
   ]
  },
  {
   "cell_type": "code",
   "execution_count": 50,
   "metadata": {},
   "outputs": [],
   "source": [
    "topcandidates=[]\n",
    "candidates=[]\n",
    "test=set()\n",
    "current_word_predictions_2=[]\n",
    "\n",
    "for key in frequency.keys():\n",
    "    if key.startswith(\"g\"):\n",
    "        topcandidates.append((key,frequency[key])) \n",
    "        test.add(key)\n",
    "        \n",
    "for word in test:\n",
    "    if word!='</s>' or word!='<s>':\n",
    "        p1 = get_prob_unigram((word))\n",
    "        p2 = get_prob_bigram((tokens[-1], word))\n",
    "        p3 = get_prob_trigram((tokens[-2], tokens[-1], word)) if len(tokens) >= 3 else 0\n",
    "        p=p1*0.01+p2*0.4+p3*0.5\n",
    "        candidates.append((word, p))\n",
    "\n",
    "candidates.sort(key=lambda x: x[1], reverse=True)\n",
    "for ans in candidates[:5]:\n",
    "    current_word_predictions_2.append(ans[0])\n",
    "\n"
   ]
  },
  {
   "cell_type": "code",
   "execution_count": 51,
   "metadata": {},
   "outputs": [
    {
     "data": {
      "text/plain": [
       "['gång', 'gammal', 'god', 'ganska', 'glädje']"
      ]
     },
     "execution_count": 51,
     "metadata": {},
     "output_type": "execute_result"
    }
   ],
   "source": [
    "current_word_predictions_2"
   ]
  },
  {
   "cell_type": "markdown",
   "metadata": {
    "tags": []
   },
   "source": [
    "## Checked answers"
   ]
  },
  {
   "cell_type": "markdown",
   "metadata": {},
   "source": [
    "The automatic marking system will check these answers: `(perplexity_unigrams, perplexity_bigrams, current_word_predictions_1, next_word_predictions, current_word_predictions_2)`"
   ]
  },
  {
   "cell_type": "code",
   "execution_count": 52,
   "metadata": {},
   "outputs": [
    {
     "data": {
      "text/plain": [
       "(423,\n",
       " 72,\n",
       " ['det', 'de', 'den', 'dem', 'detta'],\n",
       " ['stor', 'liten', 'gång', 'sådan', 'av'],\n",
       " ['gång', 'gammal', 'god', 'ganska', 'glädje'])"
      ]
     },
     "execution_count": 52,
     "metadata": {},
     "output_type": "execute_result"
    }
   ],
   "source": [
    "(perplexity_unigrams, perplexity_bigrams, current_word_predictions_1, next_word_predictions, current_word_predictions_2)"
   ]
  },
  {
   "cell_type": "markdown",
   "metadata": {},
   "source": [
    "## Submission"
   ]
  },
  {
   "cell_type": "markdown",
   "metadata": {},
   "source": [
    "When you have written all the code and run all the cells, fill in your ID and as well as the name of the notebook."
   ]
  },
  {
   "cell_type": "code",
   "execution_count": 53,
   "metadata": {},
   "outputs": [],
   "source": [
    "STIL_ID = [\"ada10oco\", \"student2\"] # Write your stil ids as a list\n",
    "CURRENT_NOTEBOOK_PATH = os.path.join(os.getcwd(), \n",
    "                                     \"2-language_models.ipynb\") # Write the name of your notebook"
   ]
  },
  {
   "cell_type": "markdown",
   "metadata": {},
   "source": [
    "The submission code will send your answer. It consists of the perplexities and predictions."
   ]
  },
  {
   "cell_type": "code",
   "execution_count": 54,
   "metadata": {},
   "outputs": [
    {
     "data": {
      "text/plain": [
       "'{\"perplexity_unigrams\": 423, \"perplexity_bigrams\": 72, \"current_word_predictions_1\": [\"det\", \"de\", \"den\", \"dem\", \"detta\"], \"next_word_predictions\": [\"stor\", \"liten\", \"g\\\\u00e5ng\", \"s\\\\u00e5dan\", \"av\"], \"current_word_predictions_2\": [\"g\\\\u00e5ng\", \"gammal\", \"god\", \"ganska\", \"gl\\\\u00e4dje\"]}'"
      ]
     },
     "execution_count": 54,
     "metadata": {},
     "output_type": "execute_result"
    }
   ],
   "source": [
    "import json\n",
    "ANSWER = json.dumps({'perplexity_unigrams': perplexity_unigrams,\n",
    "                     'perplexity_bigrams': perplexity_bigrams,\n",
    "                     'current_word_predictions_1': current_word_predictions_1,\n",
    "                     'next_word_predictions': next_word_predictions,\n",
    "                     'current_word_predictions_2': current_word_predictions_2})\n",
    "ANSWER"
   ]
  },
  {
   "cell_type": "markdown",
   "metadata": {},
   "source": [
    "The checking script will accept perplexities with a margin, like for instance:\n",
    "```\n",
    "(421, 72, ['det', 'de', 'den', 'detta', 'denna'], ['stor', 'liten', 'gammal', 'god', 'sådan'], ['gammal', 'god', 'gång', 'ganska', 'glädje'])\n",
    "```"
   ]
  },
  {
   "cell_type": "markdown",
   "metadata": {},
   "source": [
    "Now the moment of truth:\n",
    "1. Save your notebook and\n",
    "2. Run the cells below"
   ]
  },
  {
   "cell_type": "code",
   "execution_count": 55,
   "metadata": {},
   "outputs": [],
   "source": [
    "SUBMISSION_NOTEBOOK_PATH = CURRENT_NOTEBOOK_PATH + \".submission.bz2\""
   ]
  },
  {
   "cell_type": "code",
   "execution_count": 56,
   "metadata": {},
   "outputs": [],
   "source": [
    "ASSIGNMENT = 2\n",
    "API_KEY = \"f581ba347babfea0b8f2c74a3a6776a7\"\n",
    "\n",
    "# Copy and compress current notebook\n",
    "with bz2.open(SUBMISSION_NOTEBOOK_PATH, mode=\"wb\") as fout:\n",
    "    with open(CURRENT_NOTEBOOK_PATH, \"rb\") as fin:\n",
    "        fout.write(fin.read())"
   ]
  },
  {
   "cell_type": "code",
   "execution_count": 57,
   "metadata": {},
   "outputs": [
    {
     "data": {
      "text/plain": [
       "{'msg': None,\n",
       " 'status': 'incorrect',\n",
       " 'signature': None,\n",
       " 'submission_id': 'c9d4c4bf-c4c1-4540-a3d5-c5c9409d343b'}"
      ]
     },
     "execution_count": 57,
     "metadata": {},
     "output_type": "execute_result"
    }
   ],
   "source": [
    "res = requests.post(\"https://vilde.cs.lth.se/edan20checker/submit\", \n",
    "                    files={\"notebook_file\": open(SUBMISSION_NOTEBOOK_PATH, \"rb\")}, \n",
    "                    data={\n",
    "                        \"stil_id\": STIL_ID,\n",
    "                        \"assignment\": ASSIGNMENT,\n",
    "                        \"answer\": ANSWER,\n",
    "                        \"api_key\": API_KEY,\n",
    "                    },\n",
    "                   verify=True)\n",
    "\n",
    "# from IPython.display import display, JSON\n",
    "res.json()"
   ]
  },
  {
   "cell_type": "markdown",
   "metadata": {},
   "source": [
    "## Turning in your assignment"
   ]
  },
  {
   "cell_type": "markdown",
   "metadata": {},
   "source": [
    "Now your are done with the program. To complete this assignment, you will:\n",
    "1. Write a short individual report on your program. Do not forget to include the unigram and bigram tables for five sentences and _Det var en gång en katt som hette Nils_.\n",
    "2. Execute the Jupyter notebook by Peter Norvig here: <a href=\"http://nbviewer.jupyter.org/url/norvig.com/ipython/How%20to%20Do%20Things%20with%20Words.ipynb\">https://nbviewer.jupyter.org/url/norvig.com/ipython/How to Do Things with Words.ipynb</a>. Just run all the cells and be sure that you understand the code. You will find the data here: <a href=\"http://norvig.com/ngrams/\">http://norvig.com/ngrams/</a>.\n",
    "3. In your report, after the description of your program, you will describe one experiment with Norvig's notebook and a long string of words your will create yourself or copy from a text you like. You will remove all the punctuation and white spaces from this string. You will set this string in lowercase letters. You will just add a cell at the end of Sect. 7 in Norvig's notebook, where you will use your string and run the notebook cell with the <tt>segment()</tt> and <tt>segment2()</tt> functions. You will comment the segmentation results you obtain with the unigram and bigram models.\n",
    "\n",
    "Submit your report as well as your notebook (for archiving purposes) to Canvas: https://canvas.education.lu.se/. To write your report, you can either\n",
    "1. Write directly your text in Canvas, or\n",
    "2. Use Latex and Overleaf (www.overleaf.com). This will probably help you structure your text. You will then upload a PDF file in Canvas.\n",
    "\n",
    "The submission deadline is September 24, 2021."
   ]
  },
  {
   "cell_type": "code",
   "execution_count": null,
   "metadata": {},
   "outputs": [],
   "source": []
  }
 ],
 "metadata": {
  "kernelspec": {
   "display_name": "Python 3",
   "language": "python",
   "name": "python3"
  },
  "language_info": {
   "codemirror_mode": {
    "name": "ipython",
    "version": 3
   },
   "file_extension": ".py",
   "mimetype": "text/x-python",
   "name": "python",
   "nbconvert_exporter": "python",
   "pygments_lexer": "ipython3",
   "version": "3.8.8"
  }
 },
 "nbformat": 4,
 "nbformat_minor": 4
}
